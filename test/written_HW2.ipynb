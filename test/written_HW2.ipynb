{
 "cells": [
  {
   "cell_type": "code",
   "execution_count": 4,
   "metadata": {},
   "outputs": [],
   "source": [
    "import numpy as np\n",
    "from typing import Tuple"
   ]
  },
  {
   "cell_type": "code",
   "execution_count": 5,
   "metadata": {},
   "outputs": [],
   "source": [
    "N = 50"
   ]
  },
  {
   "cell_type": "code",
   "execution_count": 8,
   "metadata": {},
   "outputs": [],
   "source": [
    "def generate_test_set(N: int) -> Tuple[np.ndarray, np.ndarray]:\n",
    "    X = (np.random.rand(N,2) - 0.5)*2\n",
    "    y = np.sign(0.5*X[:,0]+0.5*X[:,1])\n",
    "    return X, y"
   ]
  },
  {
   "cell_type": "code",
   "execution_count": 9,
   "metadata": {},
   "outputs": [
    {
     "name": "stdout",
     "output_type": "stream",
     "text": [
      "(array([[-0.5091046 ,  0.29309076],\n",
      "       [-0.3916927 , -0.9239861 ],\n",
      "       [-0.2980078 ,  0.37792974],\n",
      "       [-0.1674665 ,  0.75494601],\n",
      "       [ 0.03628469, -0.63941339],\n",
      "       [-0.72683884, -0.37202935],\n",
      "       [-0.80861582, -0.3450279 ],\n",
      "       [ 0.34865983, -0.74924017],\n",
      "       [ 0.31437707,  0.16189284],\n",
      "       [-0.07621057,  0.02055875]]), array([-1., -1.,  1.,  1., -1., -1., -1., -1.,  1., -1.]))\n"
     ]
    }
   ],
   "source": [
    "print(generate_test_set(10))"
   ]
  }
 ],
 "metadata": {
  "kernelspec": {
   "display_name": "Python 3.8.5 64-bit",
   "language": "python",
   "name": "python3"
  },
  "language_info": {
   "codemirror_mode": {
    "name": "ipython",
    "version": 3
   },
   "file_extension": ".py",
   "mimetype": "text/x-python",
   "name": "python",
   "nbconvert_exporter": "python",
   "pygments_lexer": "ipython3",
   "version": "3.8.5"
  },
  "orig_nbformat": 4,
  "vscode": {
   "interpreter": {
    "hash": "0adcc2737ebf6a4a119f135174df96668767fca1ef1112612db5ecadf2b6d608"
   }
  }
 },
 "nbformat": 4,
 "nbformat_minor": 2
}
