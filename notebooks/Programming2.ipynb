{
 "cells": [
  {
   "cell_type": "markdown",
   "metadata": {},
   "source": [
    "# Programming Assignment 1 Notebook: Group 12\n",
    "\n",
    "- John Mays `johnmays`\n",
    "- Zaichuan You `ZaichuanYou`\n",
    "- James McHargue `jpmchargue`"
   ]
  },
  {
   "cell_type": "markdown",
   "metadata": {},
   "source": [
    "### a.)"
   ]
  },
  {
   "cell_type": "markdown",
   "metadata": {},
   "source": [
    "Create a table of the different metrics for naïve Bayes (m=0.01) and logistic regression (λ =0.01) on the \n",
    "different learning problems. Use a different cell for each dataset. For naïve Bayes, set the number of bins \n",
    "for continuous features to 10."
   ]
  },
  {
   "cell_type": "markdown",
   "metadata": {},
   "source": [
    "### Accuracy\n",
    "| | Voting | Volcanoes | Spam |\n",
    "| - | - | - | - |\n",
    "| Naive Bayes | 0.980 | 0.633 | 0.704 |\n",
    "| Logistic Regression | | | |\n",
    "\n",
    "### Precision\n",
    "| | Voting | Volcanoes | Spam |\n",
    "| - | - | - | - |\n",
    "| Naive Bayes | 0.975 | 0.468 | 0.742 |\n",
    "| Logistic Regression | | | |\n",
    "\n",
    "### Recall\n",
    "| | Voting | Volcanoes | Spam |\n",
    "| - | - | - | - |\n",
    "| Naive Bayes | 0.979 | 0.828 | 0.807 |\n",
    "| Logistic Regression | | | |"
   ]
  },
  {
   "cell_type": "markdown",
   "metadata": {},
   "source": [
    "### b.)"
   ]
  },
  {
   "cell_type": "markdown",
   "metadata": {},
   "source": [
    "Examine the effect of λ on logistic regression. Do this by graphing area under ROC across λ=0, 0.001, \n",
    "0.01, and 0.1 on the given datasets. "
   ]
  }
 ],
 "metadata": {
  "kernelspec": {
   "display_name": "Python 3.8.9 64-bit",
   "language": "python",
   "name": "python3"
  },
  "language_info": {
   "codemirror_mode": {
    "name": "ipython",
    "version": 3
   },
   "file_extension": ".py",
   "mimetype": "text/x-python",
   "name": "python",
   "nbconvert_exporter": "python",
   "pygments_lexer": "ipython3",
   "version": "3.8.9"
  },
  "orig_nbformat": 4,
  "vscode": {
   "interpreter": {
    "hash": "31f2aee4e71d21fbe5cf8b01ff0e069b9275f58929596ceb00d14d90e3e16cd6"
   }
  }
 },
 "nbformat": 4,
 "nbformat_minor": 2
}
