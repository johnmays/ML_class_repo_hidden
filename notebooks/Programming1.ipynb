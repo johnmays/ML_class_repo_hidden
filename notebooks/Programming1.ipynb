{
 "cells": [
  {
   "cell_type": "markdown",
   "metadata": {},
   "source": [
    "# Programming Assignment 1 Notebook: Group 12\n",
    "\n",
    "- John Mays `johnmays`\n",
    "- Zaichuan You `ZaichuanYou`\n",
    "- James McHargue `jpmchargue`"
   ]
  },
  {
   "cell_type": "code",
   "execution_count": 1,
   "metadata": {},
   "outputs": [
    {
     "ename": "SyntaxError",
     "evalue": "invalid syntax (3556936148.py, line 1)",
     "output_type": "error",
     "traceback": [
      "\u001b[0;36m  File \u001b[0;32m\"/var/folders/76/fwbywfj159x2s03lvczby1380000gn/T/ipykernel_36137/3556936148.py\"\u001b[0;36m, line \u001b[0;32m1\u001b[0m\n\u001b[0;31m    import dtree from ../src\u001b[0m\n\u001b[0m                    ^\u001b[0m\n\u001b[0;31mSyntaxError\u001b[0m\u001b[0;31m:\u001b[0m invalid syntax\n"
     ]
    }
   ],
   "source": [
    "import sys\n",
    "sys.path.append('')"
   ]
  },
  {
   "cell_type": "markdown",
   "metadata": {},
   "source": [
    "### (a)"
   ]
  },
  {
   "cell_type": "markdown",
   "metadata": {},
   "source": [
    "#### Voting:\n",
    "\n",
    "##### Call: `python dtree.py ../440data/voting 1`\n",
    "`***********`  \n",
    "`* RESULTS *`  \n",
    "`***********`  \n",
    "`Accuracy:0.99`  \n",
    "`Size: 4`  \n",
    "`Maximum Depth: 1`  \n",
    "`First Feature: Repealing-the-Job-Killing-Health-Care-Law-Act`  \n",
    "\n",
    "##### Call: `python dtree.py ../440data/voting 2`\n",
    "`***********`  \n",
    "`* RESULTS *`  \n",
    "`***********`  \n",
    "`Accuracy:0.99`  \n",
    "`Size: 10`  \n",
    "`Maximum Depth: 2`  \n",
    "`First Feature: Repealing-the-Job-Killing-Health-Care-Law-Act`  \n",
    "\n",
    "##### Call: `python dtree.py ../440data/voting 3`\n",
    "`***********`  \n",
    "`* RESULTS *`  \n",
    "`***********`  \n",
    "`Accuracy:0.99`  \n",
    "`Size: 22`  \n",
    "`Maximum Depth: 3`  \n",
    "`First Feature: Repealing-the-Job-Killing-Health-Care-Law-Act`  \n",
    "\n",
    "##### Call: `python dtree.py ../440data/voting 4`\n",
    "`***********`  \n",
    "`* RESULTS *`  \n",
    "`***********`  \n",
    "`Accuracy:0.99`  \n",
    "`Size: 34`  \n",
    "`Maximum Depth: 4`  \n",
    "`First Feature: Repealing-the-Job-Killing-Health-Care-Law-Act`  \n",
    "\n",
    "##### Call: `python dtree.py ../440data/voting 5`\n",
    "`***********`  \n",
    "`* RESULTS *`  \n",
    "`***********`  \n",
    "`Accuracy:0.99`  \n",
    "`Size: 43`  \n",
    "`Maximum Depth: 5`  \n",
    "`First Feature: Repealing-the-Job-Killing-Health-Care-Law-Act`  "
   ]
  },
  {
   "cell_type": "markdown",
   "metadata": {},
   "source": [
    "#### Volcanoes:\n",
    "\n",
    "##### Call: `python dtree.py ../440data/volcanoes 1`\n",
    "`***********`  \n",
    "`* RESULTS *`  \n",
    "`***********`  \n",
    "`Accuracy: 0.73`  \n",
    "`Size: 56`  \n",
    "`Maximum Depth: 1`  \n",
    "`First Feature: image_id`   \n",
    "\n",
    "##### Call: `python dtree.py ../440data/volcanoes 2`\n",
    "`***********`  \n",
    "`* RESULTS *`  \n",
    "`***********`  \n",
    "`Accuracy: 0.70`  \n",
    "`Size: 156`  \n",
    "`Maximum Depth: 2`  \n",
    "`First Feature: image_id`   \n",
    "\n",
    "##### Call: `python dtree.py ../440data/volcanoes 3`\n",
    "`***********`  \n",
    "`* RESULTS *`  \n",
    "`***********`  \n",
    "`Accuracy: 0.71`  \n",
    "`Size: 250`  \n",
    "`Maximum Depth: 3`  \n",
    "`First Feature: image_id`   \n",
    "\n",
    "##### Call: `python dtree.py ../440data/volcanoes 4`\n",
    "`***********`  \n",
    "`* RESULTS *`  \n",
    "`***********`  \n",
    "`Accuracy: 0.71`  \n",
    "`Size: 292`  \n",
    "`Maximum Depth: 4`  \n",
    "`First Feature: image_id`   \n",
    "\n",
    "##### Call: `python dtree.py ../440data/volcanoes 5`\n",
    "`***********`  \n",
    "`* RESULTS *`  \n",
    "`***********`  \n",
    "`Accuracy: 0.71`  \n",
    "`Size: 320`  \n",
    "`Maximum Depth: 5`  \n",
    "`First Feature: image_id`   "
   ]
  },
  {
   "cell_type": "code",
   "execution_count": null,
   "metadata": {},
   "outputs": [],
   "source": []
  },
  {
   "cell_type": "markdown",
   "metadata": {},
   "source": [
    "### (b)"
   ]
  },
  {
   "cell_type": "markdown",
   "metadata": {},
   "source": [
    "### (c)"
   ]
  },
  {
   "cell_type": "markdown",
   "metadata": {},
   "source": [
    "### (d)"
   ]
  }
 ],
 "metadata": {
  "kernelspec": {
   "display_name": "Python 3.8.9 64-bit",
   "language": "python",
   "name": "python3"
  },
  "language_info": {
   "codemirror_mode": {
    "name": "ipython",
    "version": 3
   },
   "file_extension": ".py",
   "mimetype": "text/x-python",
   "name": "python",
   "nbconvert_exporter": "python",
   "pygments_lexer": "ipython3",
   "version": "3.8.9"
  },
  "orig_nbformat": 4,
  "vscode": {
   "interpreter": {
    "hash": "31f2aee4e71d21fbe5cf8b01ff0e069b9275f58929596ceb00d14d90e3e16cd6"
   }
  }
 },
 "nbformat": 4,
 "nbformat_minor": 2
}
