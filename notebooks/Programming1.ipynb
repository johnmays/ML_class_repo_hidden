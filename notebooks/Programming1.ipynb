{
 "cells": [
  {
   "cell_type": "markdown",
   "metadata": {},
   "source": [
    "# Programming Assignment 1 Notebook: Group 12\n",
    "\n",
    "- John Mays `johnmays`\n",
    "- Zaichuan You `ZaichuanYou`\n",
    "- James McHargue `jpmchargue`"
   ]
  },
  {
   "cell_type": "markdown",
   "metadata": {},
   "source": [
    "### (a)"
   ]
  },
  {
   "cell_type": "markdown",
   "metadata": {},
   "source": [
    "The outputs below are from creating decision trees on *voting* for depth limits from 1 to 5:"
   ]
  },
  {
   "cell_type": "markdown",
   "metadata": {},
   "source": [
    "~~~\n",
    "python3 dtree.py 440data/voting 1 --no-cv  \n",
    "***********  \n",
    "* RESULTS *  \n",
    "***********  \n",
    "Accuracy:0.99  \n",
    "Size: 4  \n",
    "Maximum Depth: 1  \n",
    "First Feature: Repealing-the-Job-Killing-Health-Care-Law-Act  \n",
    " \n",
    "python3 dtree.py 440data/voting 2 --no-cv  \n",
    "***********  \n",
    "* RESULTS *  \n",
    "***********  \n",
    "Accuracy:0.99  \n",
    "Size: 10  \n",
    "Maximum Depth: 2  \n",
    "First Feature: Repealing-the-Job-Killing-Health-Care-Law-Act  \n",
    "\n",
    "python3 dtree.py 440data/voting 3 --no-cv  \n",
    "***********  \n",
    "* RESULTS *  \n",
    "***********  \n",
    "Accuracy:0.99  \n",
    "Size: 22  \n",
    "Maximum Depth: 3  \n",
    "First Feature: Repealing-the-Job-Killing-Health-Care-Law-Act  \n",
    "\n",
    "python3 dtree.py 440data/voting 4 --no-cv  \n",
    "***********  \n",
    "* RESULTS *  \n",
    "***********  \n",
    "Accuracy:0.99  \n",
    "Size: 34  \n",
    "Maximum Depth: 4  \n",
    "First Feature: Repealing-the-Job-Killing-Health-Care-Law-Act   \n",
    "\n",
    "python3 dtree.py 440data/voting 5 --no-cv  \n",
    "***********  \n",
    "* RESULTS *  \n",
    "***********  \n",
    "Accuracy:0.99  \n",
    "Size: 43  \n",
    "Maximum Depth: 5  \n",
    "First Feature: Repealing-the-Job-Killing-Health-Care-Law-Act \n",
    "~~~ "
   ]
  },
  {
   "cell_type": "markdown",
   "metadata": {},
   "source": [
    "The outputs below are from creating decision trees on *volcanoes* for depth limits from 1 to 5:"
   ]
  },
  {
   "cell_type": "markdown",
   "metadata": {},
   "source": [
    "~~~\n",
    "python3 dtree.py ../440data/volcanoes 1 --no-cv  \n",
    "***********  \n",
    "* RESULTS *  \n",
    "***********  \n",
    "Accuracy:0.67  \n",
    "Size: 3  \n",
    "Maximum Depth: 1  \n",
    "First Feature: chip_11_11  \n",
    "\n",
    "python3 dtree.py ../440data/volcanoes 2 --no-cv  \n",
    "***********  \n",
    "* RESULTS *  \n",
    "***********  \n",
    "Accuracy:0.76  \n",
    "Size: 7  \n",
    "Maximum Depth: 2  \n",
    "First Feature: chip_11_11  \n",
    "\n",
    "python3 dtree.py ../440data/volcanoes 3 --no-cv  \n",
    "***********  \n",
    "* RESULTS *  \n",
    "***********  \n",
    "Accuracy:0.77  \n",
    "Size: 15  \n",
    "Maximum Depth: 3  \n",
    "First Feature: chip_11_11  \n",
    "\n",
    "python3 dtree.py ../440data/volcanoes 4 --no-cv  \n",
    "***********  \n",
    "* RESULTS *  \n",
    "***********  \n",
    "Accuracy:0.81  \n",
    "Size: 29  \n",
    "Maximum Depth: 4  \n",
    "First Feature: chip_11_11  \n",
    "\n",
    "python3 dtree.py ../440data/volcanoes 5 --no-cv  \n",
    "***********  \n",
    "* RESULTS *  \n",
    "***********  \n",
    "Accuracy:0.85  \n",
    "Size: 51  \n",
    "Maximum Depth: 5  \n",
    "First Feature: chip_11_11 \n",
    "~~~ "
   ]
  },
  {
   "cell_type": "markdown",
   "metadata": {},
   "source": [
    "The outputs below are from creating decision trees on *spam* for depth limits from 1 to 5:"
   ]
  },
  {
   "cell_type": "markdown",
   "metadata": {},
   "source": [
    "\n",
    "~~~ \n",
    "python3 dtree.py 440data/spam 1 --no-cv  \n",
    "***********  \n",
    "* RESULTS *  \n",
    "***********  \n",
    "Accuracy:0.66  \n",
    "Size: 7  \n",
    "Maximum Depth: 1  \n",
    "First Feature: OS\n",
    "\n",
    "\n",
    "python3 dtree.py 440data/spam 2 --no-cv  \n",
    "***********  \n",
    "* RESULTS *  \n",
    "***********  \n",
    "Accuracy:0.73  \n",
    "Size: 19  \n",
    "Maximum Depth: 2  \n",
    "First Feature: OS  \n",
    "\n",
    "python3 dtree.py 440data/spam 3 --no-cv  \n",
    "***********  \n",
    "* RESULTS *  \n",
    "***********  \n",
    "Accuracy:0.74  \n",
    "Size: 43  \n",
    "Maximum Depth: 3  \n",
    "First Feature: OS  \n",
    "\n",
    "python3 dtree.py 440data/spam 4 --no-cv  \n",
    "***********  \n",
    "* RESULTS *  \n",
    "***********  \n",
    "Accuracy:0.75  \n",
    "Size: 85  \n",
    "Maximum Depth: 4  \n",
    "First Feature: OS  \n",
    "\n",
    "python3 dtree.py 440data/spam 5 --no-cv  \n",
    "***********  \n",
    "* RESULTS *  \n",
    "***********  \n",
    "Accuracy:0.76  \n",
    "Size: 165  \n",
    "Maximum Depth: 5  \n",
    "First Feature: OS  \n",
    "~~~"
   ]
  },
  {
   "cell_type": "markdown",
   "metadata": {},
   "source": [
    "### (b)"
   ]
  },
  {
   "cell_type": "markdown",
   "metadata": {},
   "source": [
    "For the *voting* dataset, as shown above, the first feature selected for partitioning is the *Repealing-the-Job-Killing-Health-Care-Law-Act*. Looking at the debugging output, it's pretty easy to see why this is the case:\n",
    "~~~\n",
    "(csds440-grouptemplate-py3.9) james@Jamess-MacBook-Air-3 src % python3 dtree.py 440data/voting 1 --no-cv\n",
    "FITTING 440 EXAMPLES WITH 11 ATTRIBUTES\n",
    "Checking nominal attribute Repealing-the-Job-Killing-Health-Care-Law-Act (0)...    IG = 0.9273222462156632\n",
    "Checking nominal attribute Comprehensive-1099-Taxpayer-Protection-and-Repayment-of-Exchange-Subsidy-Overpayments-Act-of-2011 (1)...    IG = 0.39413159135958664\n",
    "Checking nominal attribute Medicare-Decisions-Accountability-Act-of-2012 (2)...    IG = 0.6833423963918723\n",
    "Checking nominal attribute Protect-Life-Act (3)...    IG = 0.7370755393544404\n",
    "Checking nominal attribute National-Right-to-Carry-Reciprocity-Act-of-2011 (4)...    IG = 0.4800505110354165\n",
    "Checking nominal attribute Synthetic-Drug-Control-Act-of-2011 (5)...    IG = 0.16255906077187154\n",
    "Checking nominal attribute Supply-Our-Soldiers-Act-of-2011 (6)...    IG = 0.08506590252309965\n",
    "Checking nominal attribute Iran-Threat-Reduction-Act-of-2011 (7)...    IG = 0.01796703232818142\n",
    "Checking nominal attribute Department-of-Defense-Appropriations-Act,-2012 (8)...    IG = 0.14385965200515882\n",
    "Checking nominal attribute Fairness-for-High-Skilled-Immigrants-Act-of-2011 (9)...    IG = 0.01671535711562\n",
    "Checking nominal attribute Welfare-Integrity-and-Data-Improvement-Act (10)...    IG = 0.032136237810821644\n",
    "Assigning node nominal attribute Repealing-the-Job-Killing-Health-Care-Law-Act at depth (0)\n",
    "** At depth limit, skipping **(depth: 1)\n",
    "***********\n",
    "* RESULTS *\n",
    "***********\n",
    "Accuracy:0.99\n",
    "Size: 4\n",
    "Maximum Depth: 1\n",
    "First Feature: Repealing-the-Job-Killing-Health-Care-Law-Act\n",
    "~~~\n",
    "\n",
    "**The information gain from partitioning on *Repealing-the-Job-Killing-Health-Care-Law-Act* is 0.927-- meaning that the feature is very heavily correlated with the class label.** No other feature even comes close to providing the same amount of information. So, partitioning on that feature is a no-brainer-- the resulting partitions are a lot more pure than they would be with any other test.\n",
    "\n",
    "For the *spam* dataset, the first feature selected is *OS*. Just as with the voting dataset, this feature grants the highest information gain about the class labels, making it a very sensible choice for the first test:\n",
    "~~~\n",
    "(csds440-grouptemplate-py3.9) james@Jamess-MacBook-Air-3 src % python3 dtree.py 440data/spam 1 --no-cv\n",
    "FITTING 74736 EXAMPLES WITH 19 ATTRIBUTES\n",
    "Checked continuous attribute geoDistance (0)...    IG = 0.09072768602690706\n",
    "Checked continuous attribute senderHour (1)...    IG = 0.004832124931725468\n",
    "Checked continuous attribute AverageIPNeighborDistance (2)...    IG = 0.0037901656783771998\n",
    "Checked continuous attribute fngr_wss(K) (3)...    IG = 0.015921392654168365\n",
    "Checked continuous attribute fngr_ttl (4)...    IG = 0.06996716950735449\n",
    "Checking nominal attribute OS (5)...    IG = 0.09666366448517905\n",
    "Checked continuous attribute pkts_sunk/pkts_sourced (6)...    IG = 0.022464108798234572\n",
    "Checked continuous attribute rxmt_sourced (7)...    IG = 0.006909906366682872\n",
    "Checked continuous attribute rxmt_sunk (8)...    IG = 0.000580332187984145\n",
    "Checked continuous attribute rsts_sourced (9)...    IG = 0.01461595299724161\n",
    "Checked continuous attribute rsts_sunk (10)...    IG = 0.0013169223937223862\n",
    "Checked continuous attribute fins_sourced (11)...    IG = 0.016980045610668903\n",
    "Checked continuous attribute fins_sunk (12)...    IG = 0.01210568157509806\n",
    "Checked continuous attribute idle (13)...    IG = 0.03807941590390851\n",
    "Checked continuous attribute 3whs (14)...    IG = 0.07732009715758537\n",
    "Checked continuous attribute jvar (15)...    IG = 0.03459404571668645\n",
    "Checked continuous attribute rttv (16)...    IG = 0.020666146682766895\n",
    "Checked continuous attribute bytecount (17)...    IG = 0.01243585229214228\n",
    "Checked continuous attribute throughput (18)...    IG = 0.031349162535762254\n",
    "Assigning node nominal attribute OS at depth (0)\n",
    "** At depth limit, skipping **(depth: 1)))\n",
    "***********\n",
    "* RESULTS *\n",
    "***********\n",
    "Accuracy:0.66\n",
    "Size: 7\n",
    "Maximum Depth: 1\n",
    "First Feature: OS \n",
    "~~~\n",
    "\n",
    "**With an information gain of 0.0967, *OS* is also more correlated with the class labels than any other attribute.** It's true that this is a nominal attribute, so the attribute may have a higher number of values, creating a bias towards it. But, the number of values that *OS* has isn't extreme, and it's conceptually reasonable."
   ]
  },
  {
   "cell_type": "markdown",
   "metadata": {},
   "source": [
    "### (c)"
   ]
  },
  {
   "cell_type": "markdown",
   "metadata": {},
   "source": [
    "Below are the CV accuracies of the decision trees trained on *volcanoes* for various depth limits:\n",
    "\n",
    "|Depth Limit|CV Accuracy|\n",
    "|-----------|-----------|\n",
    "|1|0.67|\n",
    "|2|0.76|\n",
    "|4|0.784|\n",
    "|8|0.784|\n",
    "|16|0.778|\n",
    "|32|0.778|"
   ]
  },
  {
   "cell_type": "code",
   "execution_count": 1,
   "metadata": {},
   "outputs": [
    {
     "data": {
      "text/plain": [
       "Text(0.5, 1.0, 'Decision Tree Performance With Size: Volcanoes')"
      ]
     },
     "execution_count": 1,
     "metadata": {},
     "output_type": "execute_result"
    },
    {
     "data": {
      "image/png": "[encoded data removed]",
      "text/plain": [
       "<Figure size 640x480 with 1 Axes>"
      ]
     },
     "metadata": {},
     "output_type": "display_data"
    }
   ],
   "source": [
    "import matplotlib.pyplot as plt\n",
    "\n",
    "plt.plot([1, 2, 4, 8, 16, 32], [0.67, 0.76, 0.784, 0.784, 0.778, 0.778], color='g')\n",
    "plt.xlabel(\"Maximum Tree Depth\")\n",
    "plt.ylabel(\"CV Accuracy\")\n",
    "plt.title(\"Decision Tree Performance With Size: Volcanoes\")\n"
   ]
  },
  {
   "cell_type": "markdown",
   "metadata": {},
   "source": [
    "The tree's accuracy rises quickly to just about 0.78 before falling slightly, stabilizing at 0.778. This generally resembles the overfitting curve we described in class; the tree's accuracy improves rapidly at first as it learns the general pattern of the *volcanoes* data, but after 5-10 layers, it starts to adopt tests based on random noise in the data, decreasing its accuracy in the general case. However, while we'd expect the curve to continue to decrease with increasing layers, the curve stabilizes after 16 layers. This is because *volcanoes* has a relatively small number of examples, so the tree only needs about 16 layers to perfectly describe any fold it's given-- even if the tree is allowed to make more layers, it will only make about 16. So, after 16 layers, the tree's accuracy stays the same, as the tree isn't actually making any new layers.\n",
    "\n",
    "Below are the CV accuracies of the decision trees trained on *spam* for various depth limits:\n",
    "\n",
    "|Depth Limit|CV Accuracy|\n",
    "|-----------|-----------|\n",
    "|1|0.66|\n",
    "|2|0.73|\n",
    "|4|0.75|\n",
    "|8|0.79|\n",
    "|16|0.82|\n",
    "|32|0.81|"
   ]
  },
  {
   "cell_type": "code",
   "execution_count": 7,
   "metadata": {},
   "outputs": [
    {
     "data": {
      "text/plain": [
       "Text(0.5, 1.0, 'Decision Tree Performance With Size: Spam')"
      ]
     },
     "execution_count": 7,
     "metadata": {},
     "output_type": "execute_result"
    },
    {
     "data": {
      "image/png": "[encoded data removed]",
      "text/plain": [
       "<Figure size 640x480 with 1 Axes>"
      ]
     },
     "metadata": {},
     "output_type": "display_data"
    }
   ],
   "source": [
    "import matplotlib.pyplot as plt\n",
    "\n",
    "plt.plot([1, 2, 4, 8, 16, 32], [0.66, 0.73, 0.75, 0.79, 0.82, 0.81], color='purple')\n",
    "plt.xlabel(\"Maximum Tree Depth\")\n",
    "plt.ylabel(\"CV Accuracy\")\n",
    "plt.title(\"Decision Tree Performance With Size: Spam\")"
   ]
  },
  {
   "cell_type": "markdown",
   "metadata": {},
   "source": [
    "The size of the 'spam' dataset is far too large to memorize, even with 32 layers. **As a result, the performance of these trees perfectly capture the 'overfitting' curve we discussed in class.** At first, as the network gains more layers, it's able to learn and encode trends in the dataset more precisely, so its performance increases. With more layers (and more hyperprisms in the latent space), you get diminishing returns. And, after you add too many layers, the tree overfits to trends in its training data and becomes worse at classifying examples generally-- hence the drop in accuracy at the end of the chart."
   ]
  },
  {
   "cell_type": "markdown",
   "metadata": {},
   "source": [
    "### (d)\n",
    "\n",
    "##### Main Idea:\n",
    "Our main idea was to essentially see if we could make ID3 *\"not greedy\"* by systematically building out a few(3) _\"test trees\"_ when at a node, then running them on a validation set to get a validation accuracy in order to see if perhaps not choosing the optimal feature for the root node allowed for better choices in the long run.  We wanted to see if doing this could improve accuracy of the trees.\n",
    "\n",
    "##### Implementation:\n",
    "Before building the tree, we do an 80/20 split on the training set to make it become a new training set with a validation set.  (At each node the validation set is partitioned just like the training set).  At each node, if it is at depth greater than the depth limit -2, we then choose the best three possible features according to IG/GR, and make a small tester tree from that node of depth 3.  Then, with all three little testing trees, we run `predict()` on the validation set.  We then choose whichever root attribute had the highest test tree accuracy and proceed with the rest of ID3.\n",
    "\n",
    "##### Calling:\n",
    "To call the augmented methods, just do a regular call with the `--research` flag, e.g. `python3 dtree.py ../440data/voting 5 --no-cv --use-gain-ratio --research`\n",
    "\n",
    "##### Results:\n",
    "\n",
    "**Voting: An Improvement in Performance**\n",
    "|Depth:|Normal ID3:Accuracy|Augmented ID3: Accuracy|\n",
    "|-----------|-----------|-----------|\n",
    "|3|0.98|1.00|\n",
    "|4|0.99|1.00|\n",
    "|5|0.99|1.00|\n",
    "|6|0.99|1.00|\n",
    "\n",
    "**Volcanoes: A Significant Worsening in Performance**\n",
    "|Depth:|Normal Size|Normal ID3:Accuracy|Augmented Size|Augmented ID3: Accuracy|\n",
    "|-----------|-----------|-----------|-----------|-----------|\n",
    "|3|15|0.77|13|0.31|\n",
    "|4|29|0.81|25|0.29|\n",
    "|5|51|0.85|41|0.26|\n",
    "|6|81|0.86|61|0.28|\n",
    "\n",
    "\n",
    "We must disclaim that we are not positive that our implementation is correct.  These results are odd.  It seems to improve performance on voting slightly.  This is good, and it subverts the typical first feature choice of repealing the healthcare act and improves accuracy.  This feature was the inspiration for the research claim, because it seemd like ID3 always stubbornly chose that feature.  However, the algorithm horribly worsens performance on volcanoes and spam.  It subverts the typical first choice to its detriment.  Honestly, that is probably a bug. It is possible to run it and get an accuracy of $0.0$ when `--use-gain-ratio` is on.  Nonetheless, the hypothesis is promising.  It just may not be fitted to certain datasets with certain decision boundaries"
   ]
  }
 ],
 "metadata": {
  "kernelspec": {
   "display_name": "Python 3.8.9 64-bit",
   "language": "python",
   "name": "python3"
  },
  "language_info": {
   "codemirror_mode": {
    "name": "ipython",
    "version": 3
   },
   "file_extension": ".py",
   "mimetype": "text/x-python",
   "name": "python",
   "nbconvert_exporter": "python",
   "pygments_lexer": "ipython3",
   "version": "3.8.9"
  },
  "orig_nbformat": 4,
  "vscode": {
   "interpreter": {
    "hash": "31f2aee4e71d21fbe5cf8b01ff0e069b9275f58929596ceb00d14d90e3e16cd6"
   }
  }
 },
 "nbformat": 4,
 "nbformat_minor": 2
}
